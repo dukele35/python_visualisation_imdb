{
 "cells": [
  {
   "cell_type": "markdown",
   "metadata": {},
   "source": [
    "# MOVIE ANALYSIS\n",
    "Please follow the instructions below:\n",
    "* To initialise the app, you need to click the dropdown menu `Cell` above then click `Run All`.\n",
    "* There are 6 options that you could choose for your analysis. If you choose Option 2, please refer to this [link](https://github.com/dukele35/python_visualisation_imdb/blob/master/movie_list.txt) for the list of 3737 movies available for the analysis. \n",
    "* If errors occur or you want to restart the app, you could click the dropdown menu `Kernel` above then click `Restart & Run All`.\n",
    "* For the full report, please refer to this [link](https://github.com/dukele35/python_visualisation_imdb/blob/master/Report.ipynb)"
   ]
  },
  {
   "cell_type": "code",
   "execution_count": null,
   "metadata": {
    "scrolled": false
   },
   "outputs": [],
   "source": [
    "# importing dependencies\n",
    "from application import main\n",
    "%matplotlib inline\n",
    "%config InlineBackend.figure_format = 'retina' \n",
    "\n",
    "# hiding code for a cleaner representation\n",
    "from IPython.display import HTML\n",
    "HTML('''<script>\n",
    "code_show=true; \n",
    "function code_toggle() {\n",
    " if (code_show){\n",
    " $('div.input').hide();\n",
    " } else {\n",
    " $('div.input').show();\n",
    " }\n",
    " code_show = !code_show\n",
    "} \n",
    "$( document ).ready(code_toggle);\n",
    "</script>''')"
   ]
  },
  {
   "cell_type": "code",
   "execution_count": null,
   "metadata": {
    "scrolled": false
   },
   "outputs": [],
   "source": [
    "# initialising the app\n",
    "main()"
   ]
  }
 ],
 "metadata": {
  "kernelspec": {
   "display_name": "Python 3",
   "language": "python",
   "name": "python3"
  },
  "language_info": {
   "codemirror_mode": {
    "name": "ipython",
    "version": 3
   },
   "file_extension": ".py",
   "mimetype": "text/x-python",
   "name": "python",
   "nbconvert_exporter": "python",
   "pygments_lexer": "ipython3",
   "version": "3.7.6"
  }
 },
 "nbformat": 4,
 "nbformat_minor": 2
}
